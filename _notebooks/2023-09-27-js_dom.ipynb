{
 "cells": [
  {
   "cell_type": "markdown",
   "metadata": {},
   "source": [
    "---\n",
    "toc: true\n",
    "comments: true\n",
    "layout: post\n",
    "title: JS DOM Demonstration\n",
    "description: JS DOM implementation for the JS Basics Test.\n",
    "type: hacks\n",
    "courses: { csp: {week: 5, categories: [4.A]}}\n",
    "categories: [C1.4]\n",
    "---"
   ]
  },
  {
   "cell_type": "code",
   "execution_count": 2,
   "metadata": {
    "vscode": {
     "languageId": "html"
    }
   },
   "outputs": [
    {
     "data": {
      "text/html": [
       "\n",
       "<p id=\"e\">I am a very cool guy</p>\n",
       "<button id=\"buttonID\" onclick=\"linkswitch()\">Click here!</button>\n",
       "<div>\n",
       "    <p>I love my life</p>\n",
       "    <p>I am in eleventh grade</p>\n",
       "</div>\n",
       "\n",
       "<a id=\"tlink\" href=\"https://nighthawkcoders.github.io/teacher//2023/09/12/unit-1-summary.html\">Teacher Website</a>\n",
       "<a id=\"mlink\" href=\"https://th35py27.github.io/CSP/\">My website</a>\n",
       "\n",
       "<p>I love CSP</p>\n",
       "\n",
       "<div>\n",
       "    <p>I love HTML</p>\n",
       "    <p>I love divs</p>\n",
       "</div>\n",
       "\n",
       "<script>\n",
       "    function linkswitch() {\n",
       "        var link1 = document.getElementById(\"tlink\");\n",
       "        link1.innerHTML = \"<a href='https://th35py27.github.io/CSP/'>Teacher Website</a>\";\n",
       "        var link2 = document.getElementById(\"mlink\");\n",
       "        link2.innerHTML = \"<a href='https://nighthawkcoders.github.io/teacher//2023/09/12/unit-1-summary.html'>My Website</a>\";\n",
       "        var text1 = document.getElementById(\"e\");\n",
       "        text1.innerHTML = \"<p>Links Switched!</p>\";\n",
       "    }\n",
       "</script>\n"
      ],
      "text/plain": [
       "<IPython.core.display.HTML object>"
      ]
     },
     "metadata": {},
     "output_type": "display_data"
    }
   ],
   "source": [
    "%%html\n",
    "\n",
    "<p id=\"e\">I am a very cool guy</p>\n",
    "<button id=\"buttonID\" onclick=\"linkswitch()\">Click here!</button>\n",
    "<div>\n",
    "    <p>I love my life</p>\n",
    "    <p>I am in eleventh grade</p>\n",
    "</div>\n",
    "\n",
    "<a id=\"tlink\" href=\"https://nighthawkcoders.github.io/teacher//2023/09/12/unit-1-summary.html\">Teacher Website</a>\n",
    "<a id=\"mlink\" href=\"https://th35py27.github.io/CSP/\">My website</a>\n",
    "\n",
    "<p>I love CSP</p>\n",
    "\n",
    "<div>\n",
    "    <p>I love HTML</p>\n",
    "    <p>I love divs</p>\n",
    "</div>\n",
    "\n",
    "<script>\n",
    "    function linkswitch() {\n",
    "        var link1 = document.getElementById(\"tlink\");\n",
    "        link1.innerHTML = \"<a href='https://th35py27.github.io/CSP/'>Teacher Website</a>\";\n",
    "        var link2 = document.getElementById(\"mlink\");\n",
    "        link2.innerHTML = \"<a href='https://nighthawkcoders.github.io/teacher//2023/09/12/unit-1-summary.html'>My Website</a>\";\n",
    "        var text1 = document.getElementById(\"e\");\n",
    "        text1.innerHTML = \"<p>Links Switched!</p>\";\n",
    "    }\n",
    "</script>\n"
   ]
  },
  {
   "cell_type": "code",
   "execution_count": 23,
   "metadata": {
    "vscode": {
     "languageId": "html"
    }
   },
   "outputs": [
    {
     "data": {
      "text/html": [
       "<head>\n",
       "    <title>Button Click Example</title>\n",
       "</head>\n",
       "<body>\n",
       "    <button id=\"myButton\" onclick=\"myFunction()\">Click Me</button>\n",
       "\n",
       "    <script>\n",
       "        function myFunction() {\n",
       "            alert(\"Button Clicked!\");\n",
       "        }\n",
       "    </script>\n",
       "</body>\n"
      ],
      "text/plain": [
       "<IPython.core.display.HTML object>"
      ]
     },
     "metadata": {},
     "output_type": "display_data"
    }
   ],
   "source": [
    "%%html\n",
    "<head>\n",
    "    <title>Button Click Example</title>\n",
    "</head>\n",
    "<body>\n",
    "    <button id=\"myButton\" onclick=\"myFunction()\">Click Me</button>\n",
    "\n",
    "    <script>\n",
    "        function myFunction() {\n",
    "            alert(\"Button Clicked!\");\n",
    "        }\n",
    "    </script>\n",
    "</body>"
   ]
  },
  {
   "cell_type": "code",
   "execution_count": null,
   "metadata": {},
   "outputs": [],
   "source": []
  }
 ],
 "metadata": {
  "kernelspec": {
   "display_name": "Python 3",
   "language": "python",
   "name": "python3"
  },
  "language_info": {
   "codemirror_mode": {
    "name": "ipython",
    "version": 3
   },
   "file_extension": ".py",
   "mimetype": "text/x-python",
   "name": "python",
   "nbconvert_exporter": "python",
   "pygments_lexer": "ipython3",
   "version": "3.11.6"
  },
  "orig_nbformat": 4
 },
 "nbformat": 4,
 "nbformat_minor": 2
}
