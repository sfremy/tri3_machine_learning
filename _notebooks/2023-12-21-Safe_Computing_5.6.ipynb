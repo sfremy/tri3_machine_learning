{
 "cells": [
  {
   "cell_type": "markdown",
   "metadata": {},
   "source": [
    "---\n",
    "toc: true\n",
    "comments: true\n",
    "layout: notebook\n",
    "title: Safe Computing\n",
    "courses: { csp: {week: 12, categories: [4.A]} }\n",
    "categories: [C1.4]\n",
    "---"
   ]
  },
  {
   "cell_type": "markdown",
   "metadata": {},
   "source": [
    "### Essential Knowledge:\n",
    "\n",
    "<font color=\"yellow\">\n",
    "\n",
    "**IOC-2.A.5** Technology enables the collection, use, and exploitation of information about, by, and for individuals, groups, and institutions.\n",
    "\n",
    "**IOC-2.A.6** Search engines can use search history to suggest websites or for targeted marketing.\n",
    "\n",
    "**IOC-2.A.7** Disparate personal data, such as geolocation, cookies, and browsing history, can be aggregated to create knowledge about an individual.\n",
    "\n",
    "**IOC-2.B** Explain how computing resources can be protected and can be misused.\n",
    "\n",
    "**IOC-2.C** Explain how unauthorized access to computing resources is gained.\n",
    "</font>"
   ]
  },
  {
   "cell_type": "markdown",
   "metadata": {},
   "source": [
    "# Safe Computing\n",
    "\n",
    "<font color=\"yellow\">\n",
    "\n",
    "**IOC-2.A.5** Technology enables the collection, use, and exploitation of information about, by, and for individuals, groups, and institutions.\n",
    "\n",
    "**IOC-2.A.6** Search engines can use search history to suggest websites or for targeted marketing.\n",
    "\n",
    "**IOC-2.A.7** Disparate personal data, such as geolocation, cookies, and browsing history, can be aggregated to create knowledge about an individual.\n",
    "</font>"
   ]
  },
  {
   "cell_type": "markdown",
   "metadata": {},
   "source": [
    "## Personal Identifiable Information (PII)"
   ]
  },
  {
   "cell_type": "markdown",
   "metadata": {},
   "source": [
    "Personal Identifiable Information (PII): Information about someone that can be used to identify them.\n",
    "\n",
    "- Name\n",
    "\n",
    "- Race\n",
    "\n",
    "- Age\n",
    "\n",
    "- Phone number\n",
    "\n",
    "- DOB\n",
    "\n",
    "- Email\n",
    "\n",
    "- Address\n",
    "\n",
    "- Credit Card\n",
    "\n",
    "- Medical Information \n",
    "\n",
    "- Biometric Data\n",
    "\n",
    "Credit card, medical, and biometric information can not be shared without your consent.\n",
    "\n",
    "Others can use it to steal your identity, money, or other personal information.\n",
    "\n",
    "Search engines collect information without you knowing. They collect information about a user’s devices, networks, and websites visited and often use it to suggest things for you. The information we put out there is often there permanently.\n"
   ]
  },
  {
   "cell_type": "markdown",
   "metadata": {},
   "source": [
    "### Good and bad things about PII"
   ]
  },
  {
   "cell_type": "markdown",
   "metadata": {},
   "source": [
    "Good:\n",
    "\n",
    "- It can be used to enhance user experience by suggesting things that you like\n",
    "\n",
    "- The user can access websites and other info by looking at their history\n",
    "\n",
    "Bad:\n",
    "\n",
    "- Others can exploit it to access a user’s personal information\n",
    "\n",
    "- Ex: If you book a trip to another country, this is what happens\n",
    "\n",
    "     - The search engine knows all the details of your trip, such as dates, places, hotels, etc.\n",
    "\n",
    "     - The second you search something up, it knows your IP address and email (from your user info)\n",
    "\n",
    "     - Your internet service provider provides your name and address\n",
    "\n",
    "     - The federal government has access to where you are traveling\n",
    "\n",
    "     - Dozens of sites are tracking your information via your use of cookies\n",
    "\n",
    "     - And even when you don’t have a device, cameras might be tracking you\n",
    "\n",
    "**Risk to Privacy**\n",
    "\n",
    "- Information you put online is very difficult to delete\n",
    "\n",
    "- Information that you put online, knowingly or unknowingly can be used to know very personal information that you might not intend to share."
   ]
  },
  {
   "cell_type": "markdown",
   "metadata": {},
   "source": [
    "### <font color = \"Green\">Popcorn Hack 1:</font> \n",
    "\n",
    "List at least three apps or websites that might use PII:\n",
    "\n",
    "- 1: 23&Me\n",
    "- 2: Google\n",
    "- 3: College Board"
   ]
  },
  {
   "cell_type": "markdown",
   "metadata": {},
   "source": [
    "## Authentication\n",
    "<font color=\"yellow\">\n",
    "\n",
    "**IOC-2.B** Explain how computing resources can be protected and can be misused.\n",
    "</font>\n",
    "\n",
    "Authentication measures protect devices and information from unauthorized access"
   ]
  },
  {
   "cell_type": "markdown",
   "metadata": {},
   "source": [
    "Authentication measures:\n",
    "\n",
    "- Strong passwords\n",
    "\n",
    "- Multi-factor authentication\n",
    "\n",
    "Strong Passwords:\n",
    "\n",
    "- 10 or more characters\n",
    "\n",
    "- Must contain a symbol\n",
    "\n",
    "- Must contain a number\n",
    "\n",
    "- Must contain lowercase and uppercase letters\n"
   ]
  },
  {
   "cell_type": "markdown",
   "metadata": {},
   "source": [
    "Multi-Factor Authentication \n",
    "\n",
    "- Types of Authentication:\n",
    "\n",
    "    - What You Know (IE: Your Password)\n",
    "\n",
    "    - What You Have (IE: Personal Information)\n",
    "\n",
    "    - What You Are (IE: Fingerprint)\n",
    "\n",
    "- Why Use? \n",
    "    - Multi-Factor Authentication ensures that there's two steps before gaining access to personal or important information instead of strictly using a password. Examples of this are connecting phone numbers to accounts or connecting emails to accounts.   \n",
    "\n",
    "        \n",
    "- Viruses and Malware:\n",
    "\n",
    "    - Viruses: Malicious programs that can copy themselves and gain access to systems that they are not supposed to be allowed in\n",
    "\n",
    "    - Malware: Often intended to damage a computing system or take partial control over its operation\n",
    "\n",
    "        - It can infiltrate a system by posing as legitimate programs or by attaching itself to legitimate programs, like an email attachment\n",
    "\n",
    "    - Virus scans can help to prevent malicious code from getting into and affecting your system\n",
    "\n",
    "Encryption and Decryption:\n",
    "\n",
    "- Once legitimate access to a system is gained, it is important to ensure data sent to and from the system remains uncompromised\n",
    "\n",
    "- Encryption: The process of encoding data to prevent unauthorized access\n",
    "\n",
    "- Decryption: The process of decoding data\n",
    "\n",
    "    - Two Types\n",
    "\n",
    "        - Symmetric Encryption: one key used to both encrypt and decrypt data (IE: Caesar Cipher)\n",
    "\n",
    "        - Asymmetric encryption\n",
    "            \n",
    "            - Public Key Encryption: uses two keys\n",
    "            \n",
    "                - A public key for encrypting\n",
    "            \n",
    "                - A private key for decrypting\n",
    "            \n",
    "            - A sender does not need the receiver’s private key to encrypt a message\n",
    "            \n",
    "            - The receiver’s private key IS required to decrypt the message\n"
   ]
  },
  {
   "cell_type": "markdown",
   "metadata": {},
   "source": [
    "Digital certificates:\n",
    "\n",
    "A certificate authorities issue digital certificates that validate the ownership of encryption keys used in secure communication and are based on a trust model. It makes sure that the decryption key that people recieve are issued by users or owners that own a true trusted key.\n"
   ]
  },
  {
   "cell_type": "markdown",
   "metadata": {},
   "source": [
    "### <font color = \"Green\">Popcorn Hack 2:</font>\n",
    "\n",
    "Create an encrypted code using symmetric encryption, and provide the code, and the actual message:"
   ]
  },
  {
   "cell_type": "code",
   "execution_count": 36,
   "metadata": {},
   "outputs": [
    {
     "name": "stdout",
     "output_type": "stream",
     "text": [
      "nhfhmjfhjadmntgcduyahmjfhjadmntgcduyadavgm\n",
      "parastratiosphecomyiastratiosphecomyioides\n"
     ]
    }
   ],
   "source": [
    "import numpy as np\n",
    "\n",
    "#Generate a completely random scrambled alphabet\n",
    "ab_ori = np.array(['a', 'b', 'c', 'd', 'e', 'f', 'g', 'h', 'i', 'j', 'k', 'l', 'm', 'n', 'o', 'p', 'q', 'r', 's', 't', 'u', 'v', 'w', 'x', 'y', 'z'])\n",
    "ab_scramble = np.array(['a', 'b', 'c', 'd', 'e', 'f', 'g', 'h', 'i', 'j', 'k', 'l', 'm', 'n', 'o', 'p', 'q', 'r', 's', 't', 'u', 'v', 'w', 'x', 'y', 'z'])\n",
    "np.random.shuffle(ab_scramble)\n",
    "\n",
    "message = 'parastratiosphecomyia stratiosphecomyioides'\n",
    "encryption = ''\n",
    "\n",
    "#Substitute letters in original message with the scrambled alphabet\n",
    "for index in message:\n",
    "    if index != ' ':\n",
    "        encryption += ab_scramble[np.where(ab_ori == index)[0]][0]\n",
    "        \n",
    "decryption = ''\n",
    "#Decrypt - spaces will be lost but the message is still readable, and cannot be guessed based on typography\n",
    "for index in encryption:\n",
    "    decryption += ab_ori[np.where(ab_scramble == index)[0]][0]\n",
    "\n",
    "print(encryption)\n",
    "print(decryption)\n",
    "\n",
    "#Of course, the key still needs to be sent to the recipient, creating a security gap."
   ]
  },
  {
   "cell_type": "markdown",
   "metadata": {},
   "source": [
    "## Risk Factors\n",
    "\n",
    "<font color=\"yellow\">\n",
    "\n",
    "**IOC-2.C** Explain how computing resources can be protected and can be misused.\n",
    "</font>"
   ]
  },
  {
   "cell_type": "markdown",
   "metadata": {},
   "source": [
    "- Phishing: Tricking a user into giving personal information such as usernames, passwords, account numbers, or social security numbers.\n",
    "\n",
    "    - Phishing emails: These emails look like companies you know and trust. These fake emails will trick you into clicking a link or an attachment\n",
    "\n",
    "        - These links will either put a virus on your computer, send you to a website that looks like the real thing,  or a keylogger.\n",
    "\n",
    "- Keylogger: records keys typed on the keyboard to gain access to a username, password, or any other personal information.\n",
    "\n",
    "    - How do keyloggers get onto your computer?\n",
    "\n",
    "        - One way is by plugging in a physical device to your computer.\n",
    "\n",
    "        - Phishing emails through links\n",
    "\n",
    "        - Clicking on a bad website\n",
    "\n",
    "- Rogue access point: wireless network giving unauthorized access to secure networks\n",
    "\n",
    "    - People intercept data traveled as it travels through networks.\n",
    "\n",
    "        - Ex: A router installed in a secure network within an organization. A person could easily access the network and install any software, intercept communication, or steal network information.\n",
    "\n",
    "    - Normal people trying to access their computers more easily leads to a lack of security. This makes it easy for other people to access the network."
   ]
  },
  {
   "cell_type": "markdown",
   "metadata": {},
   "source": [
    "### <font color = \"Green\">Popcorn Hack 3:</font>\n",
    "\n",
    "Go to a website that checks your password and make a strong password.\n",
    "\n",
    "Using individual keyboard characters as units of entropy with a full character set:\n",
    "P40ANf@?g1a_ (est. 48000 years to guess randomly)\n",
    "\n",
    "Although arguably if units of entropy are the only measure needed and the password is meant to be usable, an alternate approach (xkcd.com/936) may result in something like this:\n",
    "corner_resign_freeze_bulletin_incongruous (6.2x10^20 years to guess randomly character-by-character)"
   ]
  },
  {
   "cell_type": "markdown",
   "metadata": {},
   "source": [
    "### Homework\n",
    "\n",
    "**Please answer these questions and send them to Daniel Lee on Slack. Graded on accuracy.**\n",
    "\n",
    "    What is Personal Identifiable Information (PII), and list three examples of it?\n",
    "\n",
    "- PII is any information unique to a user that can identify who they are, such as their address, SSN, or email address.\n",
    "\n",
    "    What is a possible risk or cons to using PII?\n",
    "\n",
    "- Giving out PII online can cause it to fall into the hands of scammers or other malicious actors.\n",
    "\n",
    "    What are traits of a strong password?\n",
    "\n",
    "- A strong password has high entropy (many possible character combination states), so that it is difficult to guess. Common methods of increasing entropy are to include ASCII symbols, capital and lowercase letters, and numbers to expand the possible states of each character.\n",
    "\n",
    "    What does having a strong password prevent?\n",
    "\n",
    "- A strong password makes it more difficult for third parties to gain access to a user's accounts for any reason, preventing them from modifying accounts in malicious ways.\n",
    "\n",
    "    What are the two types of decryption and what is the difference between the two?\n",
    "\n",
    "- Symmetric encryption uses a single key to encode and decode messages, while asymmetric encryption uses a public key to encrypt data, which is then decrypted using a separate private key that only the recipient has access to.\n",
    "\n",
    "    What is phishing?\n",
    "\n",
    "- Phishing is impersonating a trusted service in order to steal the personal information of that service's users.\n",
    "\n",
    "    What is a way a keylogger can get into your computer?\n",
    "\n",
    "- Keyloggers can be installed onto a device through links to malicious sites, downloading unkown software, or through external devices like USB drives.\n",
    "\n",
    "    What is a rogue access point and how is it used?\n",
    "\n",
    "- A rogue access point is an access point to a wireless network which has not been approved by security. They allow third parties to harvest data that moves through an organization's secure networks unknowingly."
   ]
  }
 ],
 "metadata": {
  "kernelspec": {
   "display_name": "Python 3",
   "language": "python",
   "name": "python3"
  },
  "language_info": {
   "codemirror_mode": {
    "name": "ipython",
    "version": 3
   },
   "file_extension": ".py",
   "mimetype": "text/x-python",
   "name": "python",
   "nbconvert_exporter": "python",
   "pygments_lexer": "ipython3",
   "version": "3.11.6"
  },
  "orig_nbformat": 4
 },
 "nbformat": 4,
 "nbformat_minor": 2
}
