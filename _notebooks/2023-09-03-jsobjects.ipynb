{
 "cells": [
  {
   "cell_type": "markdown",
   "metadata": {},
   "source": [
    "---\n",
    "toc: true\n",
    "comments: true\n",
    "layout: post\n",
    "title: JS Tutorial\n",
    "description: General tutorial for JavaScript basic functionality.\n",
    "type: hacks\n",
    "courses: { csp: {week: 3, categories: [4.A]}}\n",
    "categories: [C1.4]\n",
    "---"
   ]
  },
  {
   "cell_type": "markdown",
   "metadata": {},
   "source": [
    "# Summary (Hack 1)\n",
    "<p>\n",
    "Hack: Adapt this tutorial to your own work and interests, how many steps do you understand?\n",
    "</p>\n",
    "<p>\n",
    "Let's take a look at the tutorial code provided:\n",
    "</p>"
   ]
  },
  {
   "cell_type": "markdown",
   "metadata": {},
   "source": [
    "## Block 1\n",
    "<p>\n",
    "This opens up an HTML window which makes a header with <mark>%%html</mark>.\n",
    "</p>\n",
    "<p>\n",
    "Using the <mark>style</mark> tag, the header's background colour is set as a blue-black (hex code #353b45), 10 pixels of padding are added between the header and the edges of the window, and a 3-pixel grey border (hex code #ccc).\n",
    "</p>\n",
    "<p>\n",
    "The header contains the text specified in the <mark>div</mark> data container \"output\", specifically \"Hello!\".\n",
    "</p>"
   ]
  },
  {
   "cell_type": "code",
   "execution_count": null,
   "metadata": {
    "vscode": {
     "languageId": "html"
    }
   },
   "outputs": [],
   "source": [
    "%%html\n",
    "<html>\n",
    "    <head>\n",
    "        <style>\n",
    "            #output {\n",
    "                background-color: #353b45;\n",
    "                padding: 10px;\n",
    "                border: 3px solid #ccc;\n",
    "            }\n",
    "        </style>\n",
    "    </head>\n",
    "    <body>\n",
    "        <p id=\"data\" hidden>\n",
    "        </p>\n",
    "        <div id=\"output\">\n",
    "            Hello!\n",
    "        </div>\n",
    "    </body>\n",
    "</html>"
   ]
  },
  {
   "cell_type": "markdown",
   "metadata": {},
   "source": [
    "## Block 2\n",
    "<p>\n",
    "console.log() prints out the string passed to it within the browser console. Here, we are passing the strings <mark>\"JavaScript/Jupyter Output Intro\"</mark> and <mark>\"Hellow World!\"</mark>. <mark>alert()</mark> prints a string to a pop-up alert within the Jupyter browser window.\n",
    "</p>\n",
    "<p>\n",
    "getElementById is setting \"output\" to \"Hello World!\" but I'm unsure of the functionality of the element.textContext definitinon.\n",
    "</p>"
   ]
  },
  {
   "cell_type": "code",
   "execution_count": null,
   "metadata": {
    "vscode": {
     "languageId": "javascript"
    }
   },
   "outputs": [],
   "source": [
    "%%js // required to allow cell to be JavaScript enabled\n",
    "\n",
    "console.log(\"JavaScript/Jupyter Output Intro\");\n",
    "\n",
    "// Browser Console output; debugging or tracing\n",
    "console.log(\"Hello, World!\");\n",
    "\n",
    "// Set element in HTML above using DOM (Document Object Model)\n",
    "document.getElementById(\"output\").textContent = \"Hello, World!\";\n",
    "\n",
    "// Jupyter built in magic element for testing and convenience of development\n",
    "element.textContent = \"Hello, World!\";  // element is an output option as part of %%js magic\n",
    "\n",
    "alert(\"Hello, World!\");"
   ]
  },
  {
   "cell_type": "markdown",
   "metadata": {},
   "source": [
    "## Block 3\n",
    "<p>\n",
    "The variable msg is set using <mark>var</mark> to the string \"Hello, World Again!\". This string is appended to \"output\" and the contents of msg are printed to the console and Jupyter with <mark>console.log()</mark> and <mark>alert()</mark>.\n",
    "</p>"
   ]
  },
  {
   "cell_type": "code",
   "execution_count": null,
   "metadata": {
    "vscode": {
     "languageId": "javascript"
    }
   },
   "outputs": [],
   "source": [
    "%%js\n",
    "console.log(\"Variable Definition\");\n",
    "\n",
    "var msg = \"Hello, World Again!\";\n",
    "\n",
    "// Use msg to output code to Console and Jupyter Notebook\n",
    "console.log(msg);  //right click browser select Inspect, then select Console to view\n",
    "document.getElementById(\"output\").textContent = msg;\n",
    "element.append(msg);\n",
    "alert(msg);\n"
   ]
  },
  {
   "cell_type": "markdown",
   "metadata": {},
   "source": [
    "## Block 4\n",
    "<p>\n",
    "This defines a function called <mark>logIt</mark> which takes a parameter <mark>msg</mark>. It appends this parameter to <mark>element</mark> and appends to <mark>\"output\"</mark>.\n",
    "</p>\n",
    "<p>\n",
    "Two variables, <mark>msg</mark> and <mark>classOf</mark> are defined as the strings \"Hello, Students!\" and \"Welcome CS class of 2023-2024.\". A concatentation of these strings (which would be \"Hello, Students! Welcome CS class of 2023-2024.\") is passed to the funciton logIt.\n",
    "</p>"
   ]
  },
  {
   "cell_type": "code",
   "execution_count": null,
   "metadata": {
    "vscode": {
     "languageId": "javascript"
    }
   },
   "outputs": [],
   "source": [
    "%%js\n",
    "console.log(\"Function Definition\");\n",
    "\n",
    "/* Function: logIt\n",
    " * Parameter: output\n",
    " * Description: The parameter is \"output\" to console and jupyter page\n",
    "*/\n",
    "function logIt(msg) {\n",
    "    console.log(msg); \n",
    "    element.append(msg);\n",
    "    document.getElementById(\"output\").textContent = msg;\n",
    "    //alert(output);\n",
    "}\n",
    "\n",
    "// sequence of code build logIt parameter using concatenation\n",
    "var msg = \"Hello, Students!\" // replaces content of variable\n",
    "var classOf = \"Welcome CS class of 2023-2024.\"\n",
    "logIt(msg + \"  \" + classOf); // concatenation of strings"
   ]
  },
  {
   "cell_type": "markdown",
   "metadata": {},
   "source": [
    "## Block 5\n",
    "<p>\n",
    "A number of functions are defined.  \n",
    "</p>\n",
    "\n",
    "- <mark>getType</mark> returns the variable type of its parameter <mark>output</mark> using <mark>typeof</mark>.\n",
    "- <mark>logIt</mark> is unchanged, except also logging <mark>console.info(msg)</mark>, the object information of the parameter.\n",
    "- logIt is used to append the string <mark>\"Mr M\"</mark>, the integer <mark>1997</mark>, and the boolean <mark>true</mark>, the array <mark>scores = [90, 80, 100]</mark>, and the dictionary <mark>person = {\"name\":\"Mr M\", \"role\":\"teacher\"}</mark>."
   ]
  },
  {
   "cell_type": "code",
   "execution_count": null,
   "metadata": {
    "vscode": {
     "languageId": "javascript"
    }
   },
   "outputs": [],
   "source": [
    "%%js\n",
    "console.log(\"Examine Data Types\");\n",
    "\n",
    "// Function to add typeof to output\n",
    "function getType(output) {\n",
    "    return typeof output + \": \" + output;\n",
    "}\n",
    "\n",
    "// Function defintion\n",
    "function logIt(msg) {\n",
    "    console.log(getType(msg));  // logs string\n",
    "    console.info(msg);          // logs object\n",
    "    document.getElementById(\"output\").textContent = msg;\n",
    "    element.append(getType(msg) + \" \");  // adds to Jupyter output\n",
    "    //alert(getType(msg));\n",
    "}\n",
    "\n",
    "// Common Types\n",
    "element.append(\"Common Types \");\n",
    "logIt(\"Mr M\"); // String\n",
    "logIt(1997);    // Number\n",
    "logIt(true);    // Boolean\n",
    "\n",
    "// Object Type, this definition is often called a array or list\n",
    "element.append(\"Object Type, array \");\n",
    "var scores = [\n",
    "    90,\n",
    "    80, \n",
    "    100\n",
    "];  \n",
    "logIt(scores);\n",
    "\n",
    "// Complex Object, this definition is often called hash, map, hashmap, or dictionary\n",
    "element.append(\"Object Type, hash or dictionary \");\n",
    "var person = { // key:value pairs seperated by comma\n",
    "    \"name\": \"Mr M\", \n",
    "    \"role\": \"Teacher\"\n",
    "}; \n",
    "logIt(person);\n",
    "logIt(JSON.stringify(person));  //method used to convert this object into readable format"
   ]
  },
  {
   "cell_type": "code",
   "execution_count": null,
   "metadata": {
    "vscode": {
     "languageId": "javascript"
    }
   },
   "outputs": [],
   "source": []
  },
  {
   "cell_type": "markdown",
   "metadata": {},
   "source": [
    "## Block 6\n",
    "<p>\n",
    "A class <mark>Person</mark> is defined, which allows all the associated data to be stored as a variable.\n",
    "</p>\n",
    "\n",
    "- <mark>constructor</mark> is used to pass parameters given when Person() is called: <mark>name, ghID, classOf, role</mark>\n",
    "- The function <mark>setRole</mark> overwrites the parameter <mark>role</mark> of the class <mark>Person</mark>.\n",
    "- The fucnction <mark>getJSON</mark> creates a dictionary indentifying each parameter with its value in the Person instance.\n",
    "- The function <mark>logIt</mark> appends the JSON object made by <mark>getJSON</mark> to <mark>\"outputs\"</mark>.\n",
    "\n",
    "<p>\n",
    "Two Person instances are made: one callled <mark>teacher</mark> and another called <mark>student</mark>. <mark>teacher</mark>'s role is also set to \"teacher\".\n",
    "</p>"
   ]
  },
  {
   "cell_type": "code",
   "execution_count": null,
   "metadata": {
    "vscode": {
     "languageId": "javascript"
    }
   },
   "outputs": [],
   "source": [
    "%%js\n",
    "console.log(\"Person objects\");\n",
    "\n",
    "/* class: Person\n",
    " * Description: A collection of Person data\n",
    "*/\n",
    "class Person {\n",
    "  /* method: constructor\n",
    "   * parameters: name, ghID - GitHub ID, classOf - Graduation Class \n",
    "   * description: returns object when \"new Person()\" is called with matching parameters\n",
    "   * assignment: this.name, this.ghID, ... are properties retained in the returned object\n",
    "   * default: role uses a default property, it is set to \"Student\"\n",
    "  */\n",
    "  constructor(name, ghID, classOf, role=\"Student\") {\n",
    "    this.name = name;\n",
    "    this.ghID = ghID;\n",
    "    this.classOf = classOf;\n",
    "    this.role = role;\n",
    "  }\n",
    "\n",
    "  /* method: setter\n",
    "   * parameters: role - role in classroom\n",
    "   * description: this.role is updated from default value to value contained in role parameter\n",
    "  */\n",
    "  setRole(role) {\n",
    "    this.role = role;\n",
    "  }\n",
    "  \n",
    "  /* method: getter\n",
    "   * description: turns properties of object into JSON object\n",
    "   * return value: JSON object\n",
    "  */\n",
    "  getJSON() {\n",
    "    const obj = {type: typeof this, name: this.name, ghID: this.ghID, classOf: this.classOf, role: this.role};\n",
    "    const json = JSON.stringify(obj);\n",
    "    return json;\n",
    "  }\n",
    "\n",
    "  /* method: logIT\n",
    "   * description: this Person object is logged to console\n",
    "  */\n",
    "  \n",
    "  logIt() {\n",
    "    //Person Object\n",
    "    console.info(this);\n",
    "       \n",
    "    // HTML output\n",
    "    document.getElementById(\"output\").textContent = this.getJSON();\n",
    "\n",
    "    //Log to Jupter\n",
    "    element.append(this.role + \" object in JSON: \");\n",
    "    element.append(this.getJSON());  \n",
    "    element.append(\" \");\n",
    "\n",
    "\n",
    "    //alert(this.getJSON());\n",
    "  }\n",
    "    \n",
    "}\n",
    "\n",
    "// make a new Person Object\n",
    "const teacher = new Person(\"Mr M\", \"jm1021\", 1977); // object type is easy to work with in JavaScript\n",
    "// update role to Teacher\n",
    "var role = \"Teacher\";\n",
    "teacher.setRole(role); // set the role\n",
    "teacher.logIt();  // log to console\n",
    "\n",
    "// make a new Person Object\n",
    "const student = new Person(\"Jane Doe\", \"jane\", 2007); // object type is easy to work with in JavaScript\n",
    "student.logIt(); // log to console"
   ]
  },
  {
   "cell_type": "markdown",
   "metadata": {},
   "source": [
    "## Block 7\n",
    "<p>\n",
    "Class <mark>Person</mark> is unchanged. Another class, <mark>Classroom</mark>, is created and takes two parameters, <mark>teacher</mark> and <mark>students</mark>. An array <mark>classroom</mark> is created and recorded in the function <mark>logIt</mark>. A function <mark>constructCompsciClassroom()</mark> makes an instance of <mark>Classroom</mark> with preset teacher and student <mark>Person</mark> instances.\n",
    "</p>"
   ]
  },
  {
   "cell_type": "code",
   "execution_count": null,
   "metadata": {
    "vscode": {
     "languageId": "javascript"
    }
   },
   "outputs": [],
   "source": [
    "%%js\n",
    "console.log(\"Classroom object\");\n",
    "\n",
    "/* class: Person\n",
    " * Description: A collection of Person data\n",
    "*/\n",
    "class Person {\n",
    "  /* method: constructor\n",
    "   * parameters: name, ghID - GitHub ID, classOf - Graduation Class \n",
    "   * description: returns object when \"new Person()\" is called with matching parameters\n",
    "   * assignment: this.name, this.ghID, ... are properties retained in the returned object\n",
    "   * default: this.role is a default property retained in object, it is set to \"Student\"\n",
    "  */\n",
    "  constructor(name, ghID, classOf, role=\"Student\") {\n",
    "    this.name = name;\n",
    "    this.ghID = ghID;\n",
    "    this.classOf = classOf;\n",
    "    this.role = role;\n",
    "  }\n",
    "\n",
    "  /* method: setter\n",
    "   * parameters: role - role in classroom\n",
    "   * description: this.role is updated from default value to value contained in role parameter\n",
    "  */\n",
    "  setRole(role) {\n",
    "    this.role = role;\n",
    "  }\n",
    "  \n",
    "  /* method: getter\n",
    "   * description: turns properties of object into JSON object\n",
    "   * return value: JSON object\n",
    "  */\n",
    "  getJSON() {\n",
    "    const obj = {type: typeof this, name: this.name, ghID: this.ghID, classOf: this.classOf, role: this.role};\n",
    "    const json = JSON.stringify(obj);\n",
    "    return json;\n",
    "  }\n",
    "\n",
    "  /* method: logIT\n",
    "   * description: this Person object is logged to console\n",
    "  */\n",
    "  logIt() {\n",
    "    //Person Object\n",
    "    console.info(this);\n",
    "    // HTML output tag\n",
    "    document.getElementById(\"output\").textContent = this.getJSON();\n",
    "\n",
    "    //Log to Jupter\n",
    "    element.append(\"Person json <br>\");\n",
    "    element.append(this.getJSON() + \"<br>\"); \n",
    "\n",
    "    //alert(this.getJSON());\n",
    "  }\n",
    "    \n",
    "}\n",
    "\n",
    "/* class: Classroom\n",
    " * Description: A collection of Person objects\n",
    "*/\n",
    "class Classroom {\n",
    "  /* method: constructor\n",
    "   * parameters: teacher - a Person object, students - an array of Person objects\n",
    "   * description: returns object when \"new Classroom()\" is called containing properties and methods of a Classroom\n",
    "   * assignment: this.classroom, this.teacher, ... are properties retained in the returned object\n",
    "  */\n",
    "  constructor(teacher, students) {\n",
    "    /* spread: this.classroom contains Teacher object and all Student objects\n",
    "     * map: this.json contains of map of all persons to JSON\n",
    "    */\n",
    "    this.teacher = teacher;\n",
    "    this.students = students;\n",
    "    this.classroom = [teacher, ...students]; // ... spread option\n",
    "    this.json = '{\"classroom\":[' + this.classroom.map(person => person.getJSON()) + ']}';\n",
    "  }\n",
    "\n",
    "  /* method: logIT\n",
    "   * description: this Classroom object is logged to console\n",
    "  */\n",
    "  logIt() {\n",
    "    //Classroom object\n",
    "    console.log(this);\n",
    "\n",
    "    // HTML output\n",
    "    document.getElementById(\"data\").textContent = this.json;\n",
    "    document.getElementById(\"output\").textContent = this.json;\n",
    "\n",
    "    //Classroom json\n",
    "    element.append(\"Classroom object in JSON: \");\n",
    "    element.append(this.json);\n",
    "\n",
    "    //alert(this.json);\n",
    "  }\n",
    "}\n",
    "\n",
    "/* function: constructCompSciClassroom\n",
    " * Description: Create data for Classroom and Person objects\n",
    " * Returns: A Classroom Object\n",
    "*/\n",
    "function constructCompSciClassroom() {\n",
    "    // define a Teacher object\n",
    "    const teacher = new Person(\"Mr M\", \"jm1021\", 1977, \"Teacher\");  // optional 4th parameter\n",
    "\n",
    "    // define a student Array of Person objects\n",
    "    const students = [ \n",
    "        new Person(\"Anthony\", \"tonyhieu\", 2022),\n",
    "        new Person(\"Bria\", \"B-G101\", 2023),\n",
    "        new Person(\"Allie\", \"xiaoa0\", 2023),\n",
    "        new Person(\"Tigran\", \"Tigran7\", 2023),\n",
    "        new Person(\"Rebecca\", \"Rebecca-123\", 2023),\n",
    "        new Person(\"Vidhi\", \"VidhiKulkarni\", 2024)\n",
    "    ];\n",
    "\n",
    "    // make a CompSci classroom from formerly defined teacher and student objects\n",
    "    return new Classroom(teacher, students);  // returns object\n",
    "}\n",
    "\n",
    "// assigns compsci to the object returned by \"constructCompSciClassroom()\" function\n",
    "const compsci = constructCompSciClassroom();\n",
    "// output of Objects and JSON in CompSci classroom\n",
    "compsci.logIt();\n"
   ]
  },
  {
   "cell_type": "markdown",
   "metadata": {},
   "source": [
    "## Block 8\n",
    "<p>\n",
    "The variable <mark>jsonText</mark> is assigned to the contents of \"data\". The variable <mark>classroom</mark> is assigned to the <mark>.classroom</mark> property of jsonText.\n",
    "</p>\n",
    "<p>\n",
    "A HTML table is generated under the variable htmlOut, with columns corresponding to the categories in Person and the contents of <mark>classroom</mark>. This is the same format as the HTML table shown in the JQuery hack.\n",
    "</p>"
   ]
  },
  {
   "cell_type": "code",
   "execution_count": null,
   "metadata": {
    "vscode": {
     "languageId": "javascript"
    }
   },
   "outputs": [],
   "source": [
    "%%js\n",
    "console.log(\"Classroom Web Page\");\n",
    "\n",
    "// extract JSON text from output element in HTML page\n",
    "const jsonText = document.getElementById(\"data\").innerHTML;\n",
    "\n",
    "// convert JSON text to a JavaScript Object to process\n",
    "const classroom = JSON.parse(jsonText).classroom;\n",
    "console.log(classroom);\n",
    "\n",
    "// make an HTML Out format for pretty display\n",
    "/* Template literals (`), can make HTML generation more concise;\n",
    " * the map functions generates row strings and the join method combines them;\n",
    " * this replaces longer and ugly for loop and string concatenation.\n",
    "*/\n",
    "const htmlOut = `\n",
    "    <table>\n",
    "        <thead>\n",
    "            <tr>\n",
    "                <th>Name</th>\n",
    "                <th>GitHub ID</th>\n",
    "                <th>Class Of</th>\n",
    "                <th>Role</th>\n",
    "            </tr>\n",
    "        </thead>\n",
    "        <tbody>\n",
    "            ${classroom.map(row => `\n",
    "                <tr>\n",
    "                    <td>${row.name}</td>\n",
    "                    <td>${row.ghID}</td>\n",
    "                    <td>${row.classOf}</td>\n",
    "                    <td>${row.role}</td>\n",
    "                </tr>\n",
    "            `).join('')}\n",
    "        </tbody>\n",
    "    </table>\n",
    "`;\n",
    "\n",
    "// assign/set htmlOut to output element in HTML page\n",
    "document.getElementById(\"output\").innerHTML = htmlOut;\n",
    "\n",
    "// show raw HTML\n",
    "console.log(htmlOut);\n",
    "element.append(htmlOut);"
   ]
  },
  {
   "cell_type": "markdown",
   "metadata": {},
   "source": [
    "# Hacks\n",
    "<p>\n",
    "console.log() can bring errors to attention by identifying incorrect outputs at various steps within the code process. In this JavaScript file we report elements of <mark>Person</mark> and <mark>Classroom</mark> during processing. If a datatype is incorrect, it will be shown.\n",
    "</p>"
   ]
  }
 ],
 "metadata": {
  "language_info": {
   "name": "python"
  },
  "orig_nbformat": 4
 },
 "nbformat": 4,
 "nbformat_minor": 2
}
