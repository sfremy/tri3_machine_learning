{
 "cells": [
  {
   "cell_type": "markdown",
   "metadata": {},
   "source": [
    "---\n",
    "toc: true\n",
    "comments: false\n",
    "layout: post\n",
    "title: Variables & Datatypes\n",
    "description: Base info and hack for Python datatypes and variable handling.\n",
    "courses: { csp: {week: 4, categories: [1.A, 3.B]} }\n",
    "categories: [C4.0]\n",
    "type: hacks\n",
    "---"
   ]
  },
  {
   "cell_type": "markdown",
   "metadata": {},
   "source": [
    "## Datatype Overview\n",
    "\n",
    "<p>\n",
    "Python variable is assigned with the generic <mark>(varname)</mark> = <mark>value</mark>\n",
    "</p>\n",
    "<p>\n",
    "Datatype is determined by Python based on the contents of <mark>(varname)</mark>\n",
    "</p>\n",
    "<p>\n",
    "For example:\n",
    "</p>"
   ]
  },
  {
   "cell_type": "code",
   "execution_count": null,
   "metadata": {},
   "outputs": [],
   "source": [
    "#String\n",
    "name = \"Guanshancaris kunmingensis\"\n",
    "print(\"name\", name, type(name))\n",
    "#Integer\n",
    "kic = 4138008\n",
    "print(\"kic\", kic, type(kic))\n",
    "#Floating-point number\n",
    "confidence = 0.8893\n",
    "print(\"confidence\",confidence,type(confidence))\n",
    "#List\n",
    "langs = [\"Python\", \"JavaScript\", \"Java\"]\n",
    "print(\"langs\", langs, type(langs), \"length\", len(langs))\n",
    "print(\"- langs[0]\", langs[0], type(langs[0]))\n",
    "print(\"- langs[1]\", langs[1], type(langs[1]))\n",
    "print(\"- langs[2]\", langs[2], type(langs[2]))\n",
    "#Dictionary\n",
    "person = {\n",
    "    \"name\": name,\n",
    "    \"age\": kic,\n",
    "    \"score\": confidence,\n",
    "    \"langs\": langs\n",
    "}\n",
    "print(\"person\", person, type(person), \"length\", len(person))\n",
    "print('- person[\"name\"]', person[\"name\"], type(person[\"name\"]))\n",
    "print('- person[\"age\"]', person[\"age\"], type(person[\"age\"]))\n",
    "print('- person[\"score\"]', person[\"score\"], type(person[\"score\"]))\n",
    "print('- person[\"langs\"]', person[\"langs\"], type(person[\"langs\"]))"
   ]
  },
  {
   "cell_type": "markdown",
   "metadata": {},
   "source": [
    "<p>\n",
    "We can also append a bunch of dictionaries containing relevant data on individual items into a list like this:\n",
    "</p>"
   ]
  },
  {
   "cell_type": "code",
   "execution_count": null,
   "metadata": {},
   "outputs": [],
   "source": [
    "InfoDb = []\n",
    "\n",
    "InfoDb.append({\n",
    "    \"FirstName\": \"John\",\n",
    "    \"LastName\": \"Mortensen\",\n",
    "    \"DOB\": \"October 21\",\n",
    "    \"Residence\": \"San Diego\",\n",
    "    \"Email\": \"jmortensen@powayusd.com\",\n",
    "    \"Owns_Cars\": [\"2015-Fusion\", \"2011-Ranger\", \"2003-Excursion\", \"1997-F350\", \"1969-Cadillac\"]\n",
    "})\n",
    "\n",
    "# Append to List a 2nd Dictionary of key/values\n",
    "InfoDb.append({\n",
    "    \"FirstName\": \"Sunny\",\n",
    "    \"LastName\": \"Naidu\",\n",
    "    \"DOB\": \"August 2\",\n",
    "    \"Residence\": \"Temecula\",\n",
    "    \"Email\": \"snaidu@powayusd.com\",\n",
    "    \"Owns_Cars\": [\"4Runner\"]\n",
    "})\n",
    "\n",
    "# Append to List a 2nd Dictionary of key/values\n",
    "InfoDb.append({\n",
    "    \"FirstName\": \"Shane\",\n",
    "    \"LastName\": \"Lopez\",\n",
    "    \"DOB\": \"February 27\",\n",
    "    \"Residence\": \"San Diego\",\n",
    "    \"Email\": \"???@powayusd.com\",\n",
    "    \"Owns_Cars\": [\"2021-Insight\"]\n",
    "})"
   ]
  }
 ],
 "metadata": {
  "language_info": {
   "name": "python"
  },
  "orig_nbformat": 4
 },
 "nbformat": 4,
 "nbformat_minor": 2
}
