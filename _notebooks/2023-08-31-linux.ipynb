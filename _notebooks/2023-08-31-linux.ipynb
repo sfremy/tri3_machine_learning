{
 "cells": [
  {
   "cell_type": "markdown",
   "metadata": {},
   "source": [
    "---\n",
    "toc: true\n",
    "comments: true\n",
    "layout: post\n",
    "title: Linux Shell & Bash Usage\n",
    "description: Bash Tutorial .ipynb test.\n",
    "type: hacks\n",
    "courses: { csp: {week: 2, categories: [4.A]}}\n",
    "categories: [C1.4]\n",
    "---"
   ]
  },
  {
   "cell_type": "markdown",
   "metadata": {
    "vscode": {
     "languageId": "plaintext"
    }
   },
   "source": [
    "# How to Use Bash\n",
    "## Overview\n",
    "<p>\n",
    "Bash is a shell and command language used by most Linux operating systems. It is a command-line interface but can also read and execute commands from a file, as is being done here.\n",
    "</p>\n",
    "\n",
    "## Setup\n",
    "<p>\n",
    "To make a Bash script in VSCode's Jupyter notebook implementation, use 'Shell Script' as the cell type and open with \"%%script bash\".\n",
    "</p>"
   ]
  },
  {
   "cell_type": "code",
   "execution_count": null,
   "metadata": {
    "vscode": {
     "languageId": "shellscript"
    }
   },
   "outputs": [],
   "source": [
    "%%script bash"
   ]
  },
  {
   "cell_type": "markdown",
   "metadata": {},
   "source": [
    "<p>\n",
    "You can treat the cell as a terminal and input your command list. When run, it will treat the commands the same as a normal Linux shell.\n",
    "</p>\n",
    "\n",
    "## Hack\n",
    "### Part 1\n",
    "<p>\n",
    "\"Come up with your own student view of this procedure to show your tools are installed. It is best that you keep the few things you understand, add things later as you start to understand them.\" (I understand this to mean an installation/version check on the tools.)\n",
    "</p>\n",
    "<p>\n",
    "Let's check the installation and version status of Python, Ruby, and Jupyter, and also check to see whether the student directory exists.\n",
    "</p>"
   ]
  },
  {
   "cell_type": "code",
   "execution_count": null,
   "metadata": {
    "vscode": {
     "languageId": "shellscript"
    }
   },
   "outputs": [],
   "source": [
    "%%script bash\n",
    "\n",
    "echo \"Python version check\"\n",
    "which python\n",
    "python --version\n",
    "echo \"\"\n",
    "\n",
    "echo \"Ruby version check\"\n",
    "which ruby\n",
    "ruby -v\n",
    "echo \"\"\n",
    "\n",
    "echo \"Jupyter version check\"\n",
    "which jupyter\n",
    "jupyter --version\n",
    "echo \"\"\n",
    "\n",
    "echo \"Try to navigate to VSCode directory and display its contents.\"\n",
    "cd ~\n",
    "cd vscode\n",
    "ls\n",
    "echo \"\""
   ]
  },
  {
   "cell_type": "markdown",
   "metadata": {},
   "source": [
    "### Part 2\n",
    "<p>\n",
    "\"Name and create blog notes on some Linux commands you will use frequently.\"\n",
    "</p>\n",
    "<p>\n",
    "Some of the most commonly used Bash commands are:\n",
    "</p>\n",
    "\n",
    "- ls (Lists the contents of the present directory.)\n",
    "- pwd (Reports the current working directory.)\n",
    "- cd (Changes the present working directory.)\n",
    "- echo \"\" (Prints the contents of the \"\".)\n",
    "- man (command) (Gives a user manual on said command.)\n",
    "- which (Searches for the filename provided.)\n",
    "\n",
    "### Part 3\n",
    "<p>\n",
    "\"Is there anything we use to verify tools we installed? Review versions?\"\n",
    "</p>\n",
    "<p>\n",
    "The command <mark>--version</mark> can be used to retrieve the version numbers of tools. The command <mark>which</mark> can be used to find the filepath of whatever it is given, or returns /dev/null if it does not exist.\n",
    "</p>\n",
    "\n",
    "### Part 4\n",
    "<p>\n",
    "\"How would you update a repository? Use the git command line?\"\n",
    "</p>\n",
    "<p>\n",
    "To update a Github repository, do this:\n",
    "</p>"
   ]
  },
  {
   "cell_type": "code",
   "execution_count": null,
   "metadata": {
    "vscode": {
     "languageId": "shellscript"
    }
   },
   "outputs": [],
   "source": [
    "%%script bash\n",
    "\n",
    "# Navigate to your desired directory\n",
    "$ git clone https://github.com/sfremy/csablog.git"
   ]
  },
  {
   "cell_type": "markdown",
   "metadata": {},
   "source": [
    "<p>\n",
    "This should replace the file specified in the <mark>clone</mark> command with the latest version linked.\n",
    "</p>"
   ]
  }
 ],
 "metadata": {
  "language_info": {
   "name": "python"
  },
  "orig_nbformat": 4
 },
 "nbformat": 4,
 "nbformat_minor": 2
}
