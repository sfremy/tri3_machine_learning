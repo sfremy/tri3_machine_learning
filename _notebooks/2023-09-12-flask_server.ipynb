{
 "cells": [
  {
   "cell_type": "markdown",
   "metadata": {},
   "source": [
    "---\n",
    "toc: true\n",
    "comments: true\n",
    "layout: post\n",
    "title: Flask Server\n",
    "description: Flask server setup.\n",
    "type: hacks\n",
    "courses: { csp: {week: 4, categories: [4.A]}}\n",
    "categories: [C1.4]\n",
    "---"
   ]
  },
  {
   "cell_type": "code",
   "execution_count": 5,
   "metadata": {},
   "outputs": [],
   "source": [
    "%%python --bg\n",
    "\n",
    "from flask import Flask, jsonify\n",
    "from flask_cors import CORS\n",
    "\n",
    "# initialize a flask application (app)\n",
    "app = Flask(__name__)\n",
    "CORS(app, supports_credentials=True, origins='*')  # Allow all origins (*)\n",
    "\n",
    "# ... your existing Flask\n",
    "\n",
    "# add an api endpoint to flask app\n",
    "@app.route('/api/data')\n",
    "def get_data():\n",
    "    # start a list, to be used like a information database\n",
    "    InfoDb = []\n",
    "\n",
    "    # add a row to list, an Info record\n",
    "    InfoDb.append({\n",
    "        \"FirstName\": \"John\",\n",
    "        \"LastName\": \"Mortensen\",\n",
    "        \"DOB\": \"October 21\",\n",
    "        \"Residence\": \"San Diego\",\n",
    "        \"Email\": \"jmortensen@powayusd.com\",\n",
    "        \"Owns_Cars\": [\"2015-Fusion\", \"2011-Ranger\", \"2003-Excursion\", \"1997-F350\", \"1969-Cadillac\"]\n",
    "    })\n",
    "\n",
    "    # add a row to list, an Info record\n",
    "    InfoDb.append({\n",
    "        \"FirstName\": \"Shane\",\n",
    "        \"LastName\": \"Lopez\",\n",
    "        \"DOB\": \"February 27\",\n",
    "        \"Residence\": \"San Diego\",\n",
    "        \"Email\": \"slopez@powayusd.com\",\n",
    "        \"Owns_Cars\": [\"2021-Insight\"]\n",
    "    })\n",
    "    \n",
    "    return jsonify(InfoDb)\n",
    "\n",
    "# add an HTML endpoint to flask app\n",
    "@app.route('/')\n",
    "def say_hello():\n",
    "    html_content = \"\"\"\n",
    "    <html>\n",
    "    <head>\n",
    "        <title>Hellox</title>\n",
    "    </head>\n",
    "    <body>\n",
    "        <h2>Hello, World!</h2>\n",
    "    </body>\n",
    "    </html>\n",
    "    \"\"\"\n",
    "    return html_content\n",
    "\n",
    "if __name__ == '__main__':\n",
    "    # starts flask server on default port, http://127.0.0.1:5001\n",
    "    app.run(port=5001)\n"
   ]
  },
  {
   "cell_type": "code",
   "execution_count": 6,
   "metadata": {
    "vscode": {
     "languageId": "bat"
    }
   },
   "outputs": [
    {
     "name": "stdout",
     "output_type": "stream",
     "text": [
      "COMMAND     PID    USER   FD   TYPE             DEVICE SIZE/OFF NODE NAME\n",
      "python3.9 21824 remyliu    4u  IPv4 0x3c93380141362051      0t0  TCP localhost:commplex-link (LISTEN)\n"
     ]
    }
   ],
   "source": [
    "%%script bash\n",
    "\n",
    "# After app.run(), see the the Python process\n",
    "lsof -i :5001\n"
   ]
  },
  {
   "cell_type": "code",
   "execution_count": 9,
   "metadata": {},
   "outputs": [
    {
     "data": {
      "text/plain": [
       "[{'DOB': 'October 21',\n",
       "  'Email': 'jmortensen@powayusd.com',\n",
       "  'FirstName': 'John',\n",
       "  'LastName': 'Mortensen',\n",
       "  'Owns_Cars': ['2015-Fusion',\n",
       "   '2011-Ranger',\n",
       "   '2003-Excursion',\n",
       "   '1997-F350',\n",
       "   '1969-Cadillac'],\n",
       "  'Residence': 'San Diego'},\n",
       " {'DOB': 'February 27',\n",
       "  'Email': 'slopez@powayusd.com',\n",
       "  'FirstName': 'Shane',\n",
       "  'LastName': 'Lopez',\n",
       "  'Owns_Cars': ['2021-Insight'],\n",
       "  'Residence': 'San Diego'}]"
      ]
     },
     "execution_count": 9,
     "metadata": {},
     "output_type": "execute_result"
    }
   ],
   "source": [
    "import requests\n",
    "res = requests.get('http://127.0.0.1:5001/api/data')\n",
    "res.json()"
   ]
  },
  {
   "cell_type": "code",
   "execution_count": null,
   "metadata": {
    "vscode": {
     "languageId": "bat"
    }
   },
   "outputs": [],
   "source": [
    "%%script bash\n",
    "\n",
    "lsof -i :5001 | awk '/Python/ {print $2}' | xargs kill -9\n"
   ]
  }
 ],
 "metadata": {
  "kernelspec": {
   "display_name": "Python 3",
   "language": "python",
   "name": "python3"
  },
  "language_info": {
   "codemirror_mode": {
    "name": "ipython",
    "version": 3
   },
   "file_extension": ".py",
   "mimetype": "text/x-python",
   "name": "python",
   "nbconvert_exporter": "python",
   "pygments_lexer": "ipython3",
   "version": "3.11.6"
  },
  "orig_nbformat": 4
 },
 "nbformat": 4,
 "nbformat_minor": 2
}
