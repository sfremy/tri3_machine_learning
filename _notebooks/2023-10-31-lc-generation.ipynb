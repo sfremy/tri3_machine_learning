{
 "cells": [
  {
   "cell_type": "markdown",
   "metadata": {},
   "source": [
    "---\n",
    "toc: true\n",
    "comments: true\n",
    "layout: post\n",
    "title: Personal Project - Lightcurve Synthesis\n",
    "description: Python section for lightcurve synthesis with numpy and matplotlib only\n",
    "type: hacks\n",
    "courses: { csp: {week: 10, categories: [4.A]} }\n",
    "categories: [C1.4]\n",
    "---"
   ]
  },
  {
   "cell_type": "markdown",
   "metadata": {},
   "source": [
    "# Synthesizing Realistic Circumbinary Transiting Planetary Light Curves\n",
    "<p>This is a section of code from a AI-based scientific investigation of circumbinary planets. The actual specifics of the situation are difficult to explain concisely, but the goal of this code is essentially to generate a quasi-periodic signal overlain with Gaussian noise.</p>\n",
    "\n",
    "#### Key Features:\n",
    "- Transit features are inserted at semi-random locations using Numpy Gaussian distribution\n",
    "- Array of randomly sampled Gaussian noise values overlain on synthesized data array, using passed SNR in the formula σ = depth * √(duration) / SNR\n",
    "- Additional secondary transits generated randomly at an adjustable rate\n",
    "- Occasionally, transit features are skipped to simulate precession-driven passage out of the alignment"
   ]
  },
  {
   "cell_type": "code",
   "execution_count": 14,
   "metadata": {},
   "outputs": [],
   "source": [
    "import matplotlib.pyplot as plt\n",
    "import numpy as np\n",
    "%matplotlib inline"
   ]
  },
  {
   "cell_type": "code",
   "execution_count": 15,
   "metadata": {},
   "outputs": [],
   "source": [
    "def make_transit(t0, period, duration, depth, ratio):\n",
    "    #t0: the coordinate of the transit with respect to the period window.\n",
    "    #period: the period of the planet, in days.\n",
    "    #duration: the length of the transit, in days.\n",
    "    #depth: the depth of the transit with respect to the star's luminosity, from 0-1.\n",
    "    #ratio: the ratio of sizes between the planet and the star, from 0-1.\n",
    "    \n",
    "    \n",
    "    #final 30min resolution (0.25x)\n",
    "    one_period_time = np.arange(0, period, 1/192)\n",
    "\n",
    "    ab = duration * (1 - ratio) / 2\n",
    "    bc = duration * ratio\n",
    "\n",
    "    # Make x,y (time, flux) positions for each trapezoid marker\n",
    "    a = [0, 1]\n",
    "    b = [ab, 1 - depth]\n",
    "    c = [ab + bc, 1 - depth]\n",
    "    d = [duration, 1]\n",
    "\n",
    "    x = np.array([a[0], b[0], c[0], d[0]])\n",
    "    y = [a[1], b[1], c[1], d[1]]\n",
    "\n",
    "    #reshape the array, take the mean on an axis\n",
    "    one_period_flux = np.interp(one_period_time, x+t0, y)   \n",
    "    \n",
    "    #one_period_flux: an array containing the generated flux values.\n",
    "    return one_period_flux\n",
    "    \n",
    "    \n",
    "    \n",
    "def transit_full(time, period, dur, depth, ratio, t0_spread=5, dur_spread=0.002, depth_spread=0.002,\n",
    "                 tprob=0.7, t2prob=0.4, binsize=4, snr=10, fluxratio=1):\n",
    "    #time: the size of the simulated lightcurve, in days.\n",
    "    #period: the period of the planet, in days.\n",
    "    #dur: the duration of the transit, in days.\n",
    "    #depth: the depth of the transit with respect to the normal luminosity, from 0-1.\n",
    "    #ratio: the ratio between the sizes of the planet and star, from 0-1.\n",
    "    #t0_spread: the scatter in t0 between transits, in days.\n",
    "    #dur_spread: the scatter in transit duration.\n",
    "    #depth_spread: the scatter in transit depth.\n",
    "    #tprob: the probability of a successful transit.\n",
    "    #t2prob: the probability of a transit of the secondary star.\n",
    "    #binsize: the size of bins, in datapoints.\n",
    "    #snr: the signal-to-noise ratio, from 0-1.\n",
    "    #fluxratio: the luminosity ratio between the primary and secondary stars.\n",
    "    \n",
    "    #Setup output and determine the number of periods.\n",
    "    fulltransitcurve = []\n",
    "    twindow = np.zeros(int(np.ceil(time/period)))\n",
    "    np.random.default_rng()\n",
    "\n",
    "    for i in range(0,int(np.ceil(time/period))):\n",
    "        t_insert = np.random.uniform(0,1)\n",
    "        \n",
    "        #Generate randomised parameters for a transit injection\n",
    "        if t_insert < tprob:\n",
    "            t0_instance = period/2 + np.random.normal(0,t0_spread)\n",
    "            dur_instance = np.random.normal(dur,dur_spread)\n",
    "            depth_instance = np.random.normal(depth,depth_spread)\n",
    "            tinstance = make_transit(t0_instance,period,dur_instance,depth_instance,ratio)\n",
    "            \n",
    "            #Generate parameters for a secondary transit\n",
    "            if t_insert < t2prob:\n",
    "                t2t0 = t0_instance + np.random.uniform(-5.0,5.0)\n",
    "                t2 = make_transit(t2t0,period,dur_instance,depth_instance*fluxratio,ratio)\n",
    "                tinstance = tinstance+t2-1\n",
    "            \n",
    "            fulltransitcurve += tinstance.tolist()\n",
    "\n",
    "        #Skip a failed transit (precession shifts planet out of transit window)\n",
    "        else:\n",
    "            fulltransitcurve += [1.0]*int(period*192-1)\n",
    "\n",
    "    #Add noise with the specified SNR\n",
    "    sigma = depth * np.sqrt(dur) / snr #mark for review\n",
    "    noise = np.random.normal(0.0, sigma, len(fulltransitcurve))\n",
    "            \n",
    "    fulltransitcurve += noise\n",
    "    \n",
    "    #Bin the synthesized light curve to the specified resolution\n",
    "    n = -(len(fulltransitcurve)%binsize)\n",
    "    if n == 0:\n",
    "        tcarray = np.array(fulltransitcurve)\n",
    "    else:\n",
    "        tcarray = np.array(fulltransitcurve[:n])\n",
    "    tcarray = tcarray.reshape(int(len(tcarray)/binsize),binsize)\n",
    "    finallc = np.mean(tcarray,axis=1)\n",
    "    \n",
    "#     #Fold the simulated light curve\n",
    "#     finalt = np.arange(0,len(finallc))\n",
    "#     flc = lk.LightCurve(time=finalt,flux=finallc)\n",
    "#     flcfolded = flc.fold(epoch_time=t0_instance,period=period).bin(bins=1000) #mark for review\n",
    "    \n",
    "    \n",
    "    #finallc: the final simulated lightcurve, with 1 point each 30 minutes.\n",
    "    return finallc\n",
    "\n",
    "def make_negative(time, sigma):\n",
    "    #time: the size of the light curve array desired, in days.\n",
    "    #sigma: the spread of the gaussian noise distribution.\n",
    "    \n",
    "    noisearray = np.random.normal(1.0, sigma, time*48)\n",
    "    \n",
    "    #noisearray: the specified gaussian noise-only array. Assume 1 point = 30 minutes (it doesn't actually matter what the resolution is).\n",
    "    return noisearray"
   ]
  },
  {
   "cell_type": "code",
   "execution_count": 17,
   "metadata": {},
   "outputs": [
    {
     "name": "stdout",
     "output_type": "stream",
     "text": [
      "67199\n"
     ]
    },
    {
     "data": {
      "text/plain": [
       "[<matplotlib.lines.Line2D at 0x15ffe9110>]"
      ]
     },
     "execution_count": 17,
     "metadata": {},
     "output_type": "execute_result"
    },
    {
     "data": {
      "image/png": "[encoded data removed]",
      "text/plain": [
       "<Figure size 640x480 with 1 Axes>"
      ]
     },
     "metadata": {},
     "output_type": "display_data"
    }
   ],
   "source": [
    "tc = transit_full(time=1400,period=100.0,dur=0.5,depth=0.05,ratio=0.8,t0_spread=1,\n",
    "                  dur_spread=0.002,depth_spread=0.002,tprob=0.8,t2prob=0.5, snr=3, fluxratio=0.5)\n",
    "\n",
    "print(len(tc))\n",
    "\n",
    "#Changelog:\n",
    "    #Customizable binning (set normally at 30min normal resolution)\n",
    "    #Prefolding (probably could be more efficient)\n",
    "    #Time now takes an integer\n",
    "    #Added Gaussian noise with adjustable SNR - needs review\n",
    "#To-do\n",
    "    #anticlipping\n",
    "    #return to complex binary parameters after\n",
    "    \n",
    "    \n",
    "np.shape(tc)\n",
    "\n",
    "plt.figure()\n",
    "plt.plot(tc)"
   ]
  },
  {
   "cell_type": "code",
   "execution_count": null,
   "metadata": {},
   "outputs": [],
   "source": [
    "neg = make_negative(300,0.05)\n",
    "plt.figure()\n",
    "plt.plot(neg)"
   ]
  }
 ],
 "metadata": {
  "kernelspec": {
   "display_name": "Python 3",
   "language": "python",
   "name": "python3"
  },
  "language_info": {
   "codemirror_mode": {
    "name": "ipython",
    "version": 3
   },
   "file_extension": ".py",
   "mimetype": "text/x-python",
   "name": "python",
   "nbconvert_exporter": "python",
   "pygments_lexer": "ipython3",
   "version": "3.11.6"
  }
 },
 "nbformat": 4,
 "nbformat_minor": 2
}
