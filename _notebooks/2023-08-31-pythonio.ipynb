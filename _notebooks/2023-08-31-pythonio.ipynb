{
 "cells": [
  {
   "cell_type": "markdown",
   "metadata": {},
   "source": [
    "---\n",
    "toc: true\n",
    "comments: true\n",
    "layout: post\n",
    "title: Python IO Hack\n",
    "description: Python language structure tutorial.\n",
    "type: hacks\n",
    "courses: { csp: {week: 2, categories: [4.A]}}\n",
    "categories: [C1.4]\n",
    "---"
   ]
  },
  {
   "cell_type": "markdown",
   "metadata": {},
   "source": [
    "# How to use Python\n",
    "<p>\n",
    "You've been working with Python for 10 years. You know what to do.\n",
    "</p>"
   ]
  },
  {
   "cell_type": "markdown",
   "metadata": {},
   "source": [
    "# Hacks\n",
    "<p>\n",
    "Build your own Jupyter Notebook meeting these College Board and CTE competencies\n",
    "</p>\n",
    "\n",
    "- Build your own quiz, including my questions and show outputs\n",
    "- Create both Markdown for description and Code for execution\n",
    "- Structure your Python code with comments “#” to complement Markdown descriptions\n",
    "\n",
    "<p>\n",
    "Additional requirements\n",
    "</p>\n",
    "\n",
    "- Build your quiz so that it captures the key Vocabulary from this Jupyter document\n",
    "- Calculate the percentage of your quiz\n",
    "- Review College Board Big Idea outline, see if you can reference locations in Markdown that support vocabulary\n",
    "\n",
    "<p>\n",
    "Extra credit, Advanced\n",
    "</p>\n",
    "\n",
    "- Do you see repeating pattern of code? Try to implement solution to avoid the repeating pattern (hint: list and iteration)\n",
    "\n",
    "## Starting point\n",
    "<p>\n",
    "For starters, we have the original code:\n",
    "</p>"
   ]
  },
  {
   "cell_type": "code",
   "execution_count": null,
   "metadata": {},
   "outputs": [],
   "source": [
    "def question_and_answer(prompt):\n",
    "    print(\"Question: \" + prompt)\n",
    "    msg = input()\n",
    "    print(\"Answer: \" + msg)\n",
    "\n",
    "question_and_answer(\"Name the Python output command mentioned in this lesson?\")\n",
    "question_and_answer(\"If you see many lines of code in order, what would College Board call it?\")\n",
    "question_and_answer(\"Describe a keyword used in Python to define a function?\")"
   ]
  },
  {
   "cell_type": "code",
   "execution_count": null,
   "metadata": {},
   "outputs": [],
   "source": [
    "import getpass, sys\n",
    "\n",
    "def question_with_response(prompt):\n",
    "    print(\"Question: \" + prompt)\n",
    "    msg = input()\n",
    "    return msg\n",
    "\n",
    "questions = 3\n",
    "correct = 0\n",
    "\n",
    "print('Hello, ' + getpass.getuser() + \" running \" + sys.executable)\n",
    "print(\"You will be asked \" + str(questions) + \" questions.\")\n",
    "question_and_answer(\"Are you ready to take a test?\")\n",
    "\n",
    "rsp = question_with_response(\"What command is used to include other functions that were previously developed?\")\n",
    "if rsp == \"import\":\n",
    "    print(rsp + \" is correct!\")\n",
    "    correct += 1\n",
    "else:\n",
    "    print(rsp + \" is incorrect!\")\n",
    "\n",
    "rsp = question_with_response(\"What command is used to evaluate correct or incorrect response in this example?\")\n",
    "if rsp == \"if\":\n",
    "    print(rsp + \" is correct!\")\n",
    "    correct += 1\n",
    "else:\n",
    "    print(rsp + \" is incorrect!\")\n",
    "\n",
    "rsp = question_with_response(\"Each 'if' command contains an '_________' to determine a true or false condition?\")\n",
    "if rsp == \"expression\":\n",
    "    print(rsp + \" is correct!\")\n",
    "    correct += 1\n",
    "else:\n",
    "    print(rsp + \" is incorrect!\")\n",
    "\n",
    "print(getpass.getuser() + \" you scored \" + str(correct) +\"/\" + str(questions))"
   ]
  },
  {
   "cell_type": "markdown",
   "metadata": {},
   "source": [
    "## My Solution\n",
    "<p>\n",
    "\"Try to implement solution to avoid the repeating pattern.\"\n",
    "</p>\n",
    "<p>\n",
    "In each iteration in the code provided, we see this identical pattern:\n",
    "</p>"
   ]
  },
  {
   "cell_type": "code",
   "execution_count": null,
   "metadata": {},
   "outputs": [],
   "source": [
    "rsp = question_with_response(\"Each 'if' command contains an '_________' to determine a true or false condition?\")\n",
    "if rsp == \"expression\":\n",
    "    print(rsp + \" is correct!\")\n",
    "    correct += 1\n",
    "else:\n",
    "    print(rsp + \" is incorrect!\")"
   ]
  },
  {
   "cell_type": "markdown",
   "metadata": {},
   "source": [
    "<p>\n",
    "Since this is the same every time and the only difference is the question and answer strings, we can just run through lists of questions and answers and substitute the instances into this function with a for loop. Defining this as a function allows us to call it for arbitrary <mark>qlist</mark> and <mark>answers</mark> arrays.\n",
    "</p>\n",
    "<p>\n",
    "\"Calculate the percentage of your quiz.\"\n",
    "</p>\n",
    "<p>\n",
    "This can be done by simply multiplying the quantity <mark>correct/total</mark> by 100. Python has an inbuilt round() function which we can use to arbitrarily clip the resulting percentage.\n",
    "</p>"
   ]
  },
  {
   "cell_type": "code",
   "execution_count": null,
   "metadata": {},
   "outputs": [],
   "source": [
    "def quiz(qlist, answers):\n",
    "    correct = 0\n",
    "    if len(qlist) != len(answers):\n",
    "        #Make sure that the two arrays are the same length.\n",
    "        raise Exception(\"Each question needs an answer!\")\n",
    "    \n",
    "    for i in range(len(qlist)):\n",
    "        #Run through all the indices and ask the question for each one.\n",
    "        rsp = question_with_response(qlist[i])\n",
    "        if rsp == answers[i]:\n",
    "            print(rsp + \" is correct!\")\n",
    "            correct += 1\n",
    "        else:\n",
    "            print(rsp + \" is incorrect!\")\n",
    "            \n",
    "    #Calculate the percentage correctness and report it.\n",
    "    print(getpass.getuser() + \" you scored \" + round(correct/len(qlist)*100,2) + \"%\")"
   ]
  },
  {
   "cell_type": "markdown",
   "metadata": {},
   "source": [
    "\n",
    "<p>\n",
    "\"Build your quiz so that it captures the key Vocabulary from this Jupyter document\"\n",
    "</p>\n",
    "<p>\n",
    "Including the original questions, we can define a <mark>qlist</mark> and <mark>answers</mark> array for our quiz.\n",
    "</p>"
   ]
  },
  {
   "cell_type": "code",
   "execution_count": null,
   "metadata": {},
   "outputs": [],
   "source": [
    "qs = [\"What command is used to include other functions that were previously developed?\",\n",
    "      \"What command is used to evaluate correct or incorrect response in this example?\", \n",
    "      \"Each 'if' command contains an '_________' to determine a true or false condition?\",\n",
    "      \"In what does Python store data that it is ordered to store?\",\n",
    "      \"What is n_sigma in the Python expression: anticlip_data(view, n_sigma)?\"]\n",
    "ans = [\"import\", \"if\", \"expression\", \"variables\", \"parameter\"]"
   ]
  }
 ],
 "metadata": {
  "language_info": {
   "name": "python"
  },
  "orig_nbformat": 4
 },
 "nbformat": 4,
 "nbformat_minor": 2
}
